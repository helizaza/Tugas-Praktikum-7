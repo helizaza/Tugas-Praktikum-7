{
  "nbformat": 4,
  "nbformat_minor": 0,
  "metadata": {
    "colab": {
      "provenance": [],
      "collapsed_sections": []
    },
    "kernelspec": {
      "name": "python3",
      "display_name": "Python 3"
    },
    "language_info": {
      "name": "python"
    }
  },
  "cells": [
    {
      "cell_type": "code",
      "execution_count": 7,
      "metadata": {
        "colab": {
          "base_uri": "https://localhost:8080/"
        },
        "id": "3Ojhv1PU_WC8",
        "outputId": "4d9576f4-e3f4-49df-e95d-170233652040"
      },
      "outputs": [
        {
          "output_type": "stream",
          "name": "stdout",
          "text": [
            "Accuracy: 0.9440559440559441\n",
            "Precision: 0.9456521739130435\n",
            "Recall: 0.9666666666666667\n"
          ]
        }
      ],
      "source": [
        "#Impor Library \n",
        "import numpy as np\n",
        "from sklearn import datasets\n",
        "from sklearn.model_selection import train_test_split\n",
        "from sklearn.preprocessing import StandardScaler\n",
        "from sklearn.linear_model import LogisticRegression\n",
        "from sklearn.pipeline import make_pipeline\n",
        "from sklearn.ensemble import BaggingClassifier\n",
        "from sklearn.model_selection import GridSearchCV\n",
        "\n",
        "#Load cancer dataset\n",
        "bc = datasets.load_breast_cancer()\n",
        "X = bc.data\n",
        "y = bc.target\n",
        "\n",
        "#membagi dataset \n",
        "X_train, X_test, y_train, y_test = train_test_split(X, y, test_size=0.25, random_state=1, stratify=y)\n",
        "\n",
        "#Melakukan pipelining \n",
        "pipeline = make_pipeline(StandardScaler(),\n",
        "                        LogisticRegression(random_state=1))\n",
        "\n",
        "print(\"Accuracy:\",metrics.accuracy_score(y_test, y_pred)) \n",
        "\n",
        "print(\"Precision:\",metrics.precision_score(y_test, y_pred)) \n",
        "\n",
        "print(\"Recall:\",metrics.recall_score(y_test, y_pred))"
      ]
    }
  ]
}